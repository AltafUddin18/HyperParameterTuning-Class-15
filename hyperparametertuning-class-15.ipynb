{
 "cells": [
  {
   "cell_type": "markdown",
   "id": "3de64b05",
   "metadata": {
    "papermill": {
     "duration": 0.002631,
     "end_time": "2023-05-31T16:02:34.488713",
     "exception": false,
     "start_time": "2023-05-31T16:02:34.486082",
     "status": "completed"
    },
    "tags": []
   },
   "source": [
    "# Class 15"
   ]
  },
  {
   "cell_type": "code",
   "execution_count": 1,
   "id": "cd22f434",
   "metadata": {
    "execution": {
     "iopub.execute_input": "2023-05-31T16:02:34.495590Z",
     "iopub.status.busy": "2023-05-31T16:02:34.495148Z",
     "iopub.status.idle": "2023-05-31T16:02:36.067891Z",
     "shell.execute_reply": "2023-05-31T16:02:36.066922Z"
    },
    "papermill": {
     "duration": 1.579372,
     "end_time": "2023-05-31T16:02:36.070839",
     "exception": false,
     "start_time": "2023-05-31T16:02:34.491467",
     "status": "completed"
    },
    "tags": []
   },
   "outputs": [],
   "source": [
    "import warnings\n",
    "warnings.filterwarnings(\"ignore\")\n",
    "\n",
    "import pandas as pd\n",
    "import numpy as np\n",
    "import seaborn as sns"
   ]
  },
  {
   "cell_type": "code",
   "execution_count": null,
   "id": "27596509",
   "metadata": {
    "papermill": {
     "duration": 0.001735,
     "end_time": "2023-05-31T16:02:36.074666",
     "exception": false,
     "start_time": "2023-05-31T16:02:36.072931",
     "status": "completed"
    },
    "tags": []
   },
   "outputs": [],
   "source": []
  }
 ],
 "metadata": {
  "kernelspec": {
   "display_name": "Python 3",
   "language": "python",
   "name": "python3"
  },
  "language_info": {
   "codemirror_mode": {
    "name": "ipython",
    "version": 3
   },
   "file_extension": ".py",
   "mimetype": "text/x-python",
   "name": "python",
   "nbconvert_exporter": "python",
   "pygments_lexer": "ipython3",
   "version": "3.10.10"
  },
  "papermill": {
   "default_parameters": {},
   "duration": 15.538884,
   "end_time": "2023-05-31T16:02:36.998897",
   "environment_variables": {},
   "exception": null,
   "input_path": "__notebook__.ipynb",
   "output_path": "__notebook__.ipynb",
   "parameters": {},
   "start_time": "2023-05-31T16:02:21.460013",
   "version": "2.4.0"
  }
 },
 "nbformat": 4,
 "nbformat_minor": 5
}
